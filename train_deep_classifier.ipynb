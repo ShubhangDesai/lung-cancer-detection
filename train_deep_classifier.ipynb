{
 "cells": [
  {
   "cell_type": "code",
   "execution_count": 1,
   "metadata": {},
   "outputs": [],
   "source": [
    "from models import densenet, resnet\n",
    "from Model3D import Model3D\n",
    "from ClassifierDataset import ClassifierDataset\n",
    "\n",
    "import torch\n",
    "from torch.autograd import Variable\n",
    "import torch.utils.data as data\n",
    "import torchvision.datasets as datasets\n",
    "import numpy as np\n",
    "import sys, math, time, os\n",
    "from random import shuffle\n",
    "\n",
    "import matplotlib.pyplot as plt\n",
    "\n",
    "%load_ext autoreload\n",
    "%autoreload 2\n",
    "\n",
    "use_cuda = torch.cuda.is_available()\n",
    "dtype = torch.cuda.FloatTensor if use_cuda else torch.FloatTensor\n",
    "\n",
    "kwargs = {'num_workers': 1, 'pin_memory': True} if use_cuda else {}"
   ]
  },
  {
   "cell_type": "code",
   "execution_count": 2,
   "metadata": {},
   "outputs": [],
   "source": [
    "def training_regime(model, data_loader, num_epochs=1, ckpt_file=None, losses_file=None, resume=False):\n",
    "    losses = list(np.load(losses_file)) if resume else []\n",
    "    num_batches = len(data_loader)\n",
    "    for epoch in range(num_epochs):\n",
    "        print(\"Epoch %d\" % (epoch+1))\n",
    "        for i, batch in enumerate(data_loader):\n",
    "            X, y = batch\n",
    "            \n",
    "            loss = model.train(Variable(X.type(dtype)), Variable(y.type(dtype)))\n",
    "            losses.append(loss.data.cpu()[0])\n",
    "\n",
    "            progress = math.ceil((i+1)/num_batches*20)\n",
    "            sys.stdout.write('\\r[' + progress * '*'+ (20 - progress) * ' ' + '] (%d/%d) Loss: %f' % ((i+1), num_batches, loss.data[0]))\n",
    "\n",
    "            #if i % 10 == 0:\n",
    "\n",
    "        model.save(ckpt_file)            \n",
    "        #np.save(losses_file, losses)    \n",
    "        print('\\n')"
   ]
  },
  {
   "cell_type": "code",
   "execution_count": 3,
   "metadata": {},
   "outputs": [],
   "source": [
    "X_dataset = ClassifierDataset(\"/deep/group/shubhang/cands/train/\")\n",
    "X_loader = data.DataLoader(X_dataset, batch_size=20, shuffle=True)\n",
    "\n",
    "model = Model3D(resnet.resnet18(num_classes=1), pos_weight=4)\n",
    "#model = Model3D(densenet.densenet121(sample_size=64, sample_duration=64, num_classes=1), pos_weight=4)\n",
    "#model.load('ckpts/class_train4_ckpt')"
   ]
  },
  {
   "cell_type": "code",
   "execution_count": 4,
   "metadata": {},
   "outputs": [
    {
     "name": "stdout",
     "output_type": "stream",
     "text": [
      "Epoch 1\n",
      "[********************] (53/53) Loss: 1.296526\n",
      "\n",
      "Epoch 2\n",
      "[********************] (53/53) Loss: 1.241355\n",
      "\n",
      "Epoch 3\n",
      "[********************] (53/53) Loss: 1.278989\n",
      "\n",
      "Epoch 4\n",
      "[********************] (53/53) Loss: 1.192706\n",
      "\n",
      "Epoch 5\n",
      "[********************] (53/53) Loss: 1.420730\n",
      "\n",
      "Epoch 6\n",
      "[********************] (53/53) Loss: 0.958034\n",
      "\n",
      "Epoch 7\n",
      "[********************] (53/53) Loss: 1.056737\n",
      "\n",
      "Epoch 8\n",
      "[********************] (53/53) Loss: 1.614735\n",
      "\n",
      "Epoch 9\n",
      "[********************] (53/53) Loss: 1.301769\n",
      "\n",
      "Epoch 10\n",
      "[********************] (53/53) Loss: 1.327395\n",
      "\n",
      "Epoch 11\n",
      "[********************] (53/53) Loss: 1.353001\n",
      "\n",
      "Epoch 12\n",
      "[********************] (53/53) Loss: 1.228332\n",
      "\n",
      "Epoch 13\n",
      "[********************] (53/53) Loss: 1.242710\n",
      "\n",
      "Epoch 14\n",
      "[********************] (53/53) Loss: 1.227518\n",
      "\n",
      "Epoch 15\n",
      "[********************] (53/53) Loss: 1.137360\n",
      "\n",
      "Epoch 16\n",
      "[********************] (53/53) Loss: 1.012539\n",
      "\n",
      "Epoch 17\n",
      "[********************] (53/53) Loss: 1.002598\n",
      "\n",
      "Epoch 18\n",
      "[********************] (53/53) Loss: 1.027419\n",
      "\n",
      "Epoch 19\n",
      "[********************] (53/53) Loss: 1.177868\n",
      "\n",
      "Epoch 20\n",
      "[********************] (53/53) Loss: 1.379001\n",
      "\n",
      "Epoch 21\n",
      "[********************] (53/53) Loss: 1.113124\n",
      "\n",
      "Epoch 22\n",
      "[********************] (53/53) Loss: 1.171378\n",
      "\n",
      "Epoch 23\n",
      "[********************] (53/53) Loss: 1.002414\n",
      "\n",
      "Epoch 24\n",
      "[********************] (53/53) Loss: 1.267827\n",
      "\n",
      "Epoch 25\n",
      "[********************] (53/53) Loss: 1.195454\n",
      "\n"
     ]
    }
   ],
   "source": [
    "experiment_name = 'class_train6'\n",
    "losses_file = 'losses/' + experiment_name\n",
    "ckpt_file = experiment_name + '_ckpt'\n",
    "\n",
    "training_regime(model, X_loader, num_epochs=25, ckpt_file=ckpt_file, losses_file=losses_file)"
   ]
  },
  {
   "cell_type": "code",
   "execution_count": 38,
   "metadata": {},
   "outputs": [
    {
     "name": "stdout",
     "output_type": "stream",
     "text": [
      "0.583333333333\n"
     ]
    },
    {
     "data": {
      "text/plain": [
       "[<matplotlib.lines.Line2D at 0x7f823dc9deb8>]"
      ]
     },
     "execution_count": 38,
     "metadata": {},
     "output_type": "execute_result"
    }
   ],
   "source": [
    "from sklearn.metrics import roc_curve, roc_auc_score\n",
    "from sklearn.externals import joblib\n",
    "\n",
    "#dev_dataset = ClassifierDataset(\"/deep/group/shubhang/overfit_class/dev\")\n",
    "#dev_loader = data.DataLoader(dev_dataset, batch_size=20, shuffle=True)\n",
    "\n",
    "test_dataset = ClassifierDataset(\"/deep/group/shubhang/overfit_class/test\")\n",
    "test_loader = data.DataLoader(test_dataset, batch_size=29, shuffle=True)\n",
    "\n",
    "label = 'DenseNet121'\n",
    "\n",
    "#model = Model3D(resnet.resnet18(num_classes=1), pos_weight=4)\n",
    "#model.load('ckpts/overfit_class5_ckpt')\n",
    "\n",
    "model = Model3D(densenet.densenet121(sample_size=64, sample_duration=64, num_classes=1), pos_weight=4)\n",
    "model.load('ckpts/overfit_class11_ckpt')\n",
    "\n",
    "#model = joblib.load('nb.pkl') \n",
    "#model = joblib.load('svm.pkl')\n",
    "\n",
    "# models = [model1, model3, model4]\n",
    "\n",
    "tot_pred, tot_pos, tot_y = [], [], []\n",
    "tot_acc, tot_sz = 0, 0\n",
    "for i, batch in enumerate(test_loader):\n",
    "    X, y = batch\n",
    "    sz = y.size(0)\n",
    "\n",
    "    #X = X.numpy().reshape(sz, -1)\n",
    "    #pred = model.predict(X)\n",
    "    pred = model.pred(Variable(X.cuda().float()))\n",
    "    pred = pred.cpu().data.numpy().reshape(sz)\n",
    "\n",
    "    tot_pred.append(pred)\n",
    "    tot_y.append(y.numpy().reshape(sz))\n",
    "\n",
    "pred, y = np.hstack(tot_pred), np.hstack(tot_y)\n",
    "fpr, tpr, _ = roc_curve(y, pred)\n",
    "auc = roc_auc_score(y, pred)\n",
    "print(auc)\n",
    "\n",
    "plt.plot(fpr,tpr, label=label)\n",
    "#plt.legend(loc='lower right')\n",
    "#plt.show()"
   ]
  },
  {
   "cell_type": "code",
   "execution_count": 39,
   "metadata": {},
   "outputs": [
    {
     "data": {
      "image/png": "[encoded data removed]",
      "text/plain": [
       "<matplotlib.figure.Figure at 0x7f823dd2bb38>"
      ]
     },
     "metadata": {},
     "output_type": "display_data"
    }
   ],
   "source": [
    "plt.legend(loc='lower right')\n",
    "plt.show()"
   ]
  },
  {
   "cell_type": "code",
   "execution_count": 3,
   "metadata": {},
   "outputs": [
    {
     "name": "stdout",
     "output_type": "stream",
     "text": [
      "0.622023809524\n"
     ]
    },
    {
     "data": {
      "image/png": "[encoded data removed]",
      "text/plain": [
       "<matplotlib.figure.Figure at 0x7f824c94bb00>"
      ]
     },
     "metadata": {},
     "output_type": "display_data"
    }
   ],
   "source": [
    "dev_dataset = ClassifierDataset(\"/deep/group/shubhang/overfit_class/dev\")\n",
    "dev_loader = data.DataLoader(dev_dataset, batch_size=20, shuffle=True)\n",
    "\n",
    "tot_pred, tot_pos, tot_y = [], [], []\n",
    "tot_acc, tot_sz = 0, 0\n",
    "for i, batch in enumerate(dev_loader):\n",
    "    X, y = batch\n",
    "    sz = y.size(0)\n",
    "\n",
    "    pred = model.pred(Variable(X.cuda().float()))\n",
    "    pred = pred.cpu().data.numpy().reshape(sz)\n",
    "\n",
    "    tot_pred.append(pred)\n",
    "    tot_y.append(y.numpy().reshape(sz))\n",
    "\n",
    "pred, y = np.hstack(tot_pred), np.hstack(tot_y)\n",
    "fpr, tpr, _ = roc_curve(y, pred)\n",
    "auc = roc_auc_score(y, pred)\n",
    "print(auc)\n",
    "\n",
    "plt.plot(fpr,tpr)\n",
    "\n",
    "plt.show()"
   ]
  },
  {
   "cell_type": "code",
   "execution_count": 31,
   "metadata": {},
   "outputs": [],
   "source": [
    "test_dataset = ClassifierDataset(\"/deep/group/shubhang/overfit_class/test\", \"/deep/group/shubhang/lcd_data/labels.csv\")\n",
    "test_loader = data.DataLoader(test_dataset, batch_size=29, shuffle=True)\n",
    "\n",
    "for i, batch in enumerate(dev_loader):\n",
    "    X, y = batch\n",
    "    sz = y.size(0)\n",
    "\n",
    "    pred = model.pred(Variable(X.cuda().float()))\n",
    "    pred = pred.cpu().data.numpy().reshape(sz)\n",
    "\n",
    "    tot_pred.append(pred)\n",
    "    tot_y.append(y.numpy().reshape(sz))\n",
    "\n",
    "pred, y = np.hstack(tot_pred), np.hstack(tot_y)\n",
    "fpr, tpr, _ = roc_curve(y, pred)\n",
    "plt.plot(fpr,tpr, label=labels[num])\n",
    "\n",
    "plt.legend(loc='lower right')\n",
    "plt.show()"
   ]
  },
  {
   "cell_type": "code",
   "execution_count": 6,
   "metadata": {},
   "outputs": [
    {
     "name": "stdout",
     "output_type": "stream",
     "text": [
      "0.35514018691588783\n",
      "0.2803738317757009\n",
      "0.42990654205607476\n",
      "0.37383177570093457\n"
     ]
    },
    {
     "data": {
      "image/png": "[encoded data removed]",
      "text/plain": [
       "<matplotlib.figure.Figure at 0x7f8f19ccfb70>"
      ]
     },
     "metadata": {},
     "output_type": "display_data"
    }
   ],
   "source": [
    "from sklearn.metrics import roc_curve, roc_auc_score\n",
    "ckpts = ['ckpts/overfit_class9_ckpt', 'ckpts/overfit_class10_ckpt', 'ckpts/overfit_class11_ckpt', 'ckpts/overfit_class12_ckpt']\n",
    "labels = ['reg: 0.1', 'reg: 0.01', 'reg: 0.003333', 'reg: 0.001']\n",
    "\n",
    "for num, ckpt in enumerate(ckpts):\n",
    "    model.load(ckpt)\n",
    "    tot_pred, tot_pos, tot_y = [], [], []\n",
    "    tot_acc, tot_sz = 0, 0\n",
    "    for i, batch in enumerate(X_loader):\n",
    "        X, y = batch\n",
    "        sz = y.size(0)\n",
    "\n",
    "        pred = model.pred(Variable(X.cuda().float()))\n",
    "        pred, y = pred.cpu().data.numpy().reshape(sz), y.numpy().reshape(sz)\n",
    "        pos = (pred > 0.25).astype(int)\n",
    "\n",
    "        tot_pred.append(pred)\n",
    "        tot_pos.append(pos)\n",
    "        tot_y.append(y)\n",
    "        tot_acc += len(np.where(pos==y)[0])\n",
    "        tot_sz += sz\n",
    "\n",
    "    #print(tot_acc, tot_sz)\n",
    "    print(tot_acc/tot_sz)\n",
    "\n",
    "    pred, y = np.hstack(tot_pred), np.hstack(tot_y)\n",
    "    fpr, tpr, _ = roc_curve(y, pred)\n",
    "    #auc = roc_auc_score(y, pred)\n",
    "    label = labels[num]\n",
    "    plt.plot(fpr, tpr, label=label)\n",
    "    plt.legend(loc='lower right')\n",
    "    #print(auc)\n",
    "\n",
    "plt.show()"
   ]
  },
  {
   "cell_type": "code",
   "execution_count": 8,
   "metadata": {},
   "outputs": [
    {
     "data": {
      "image/png": "[encoded data removed]",
      "text/plain": [
       "<matplotlib.figure.Figure at 0x7f8f195ba048>"
      ]
     },
     "metadata": {},
     "output_type": "display_data"
    }
   ],
   "source": [
    "ckpts = ['ckpts/overfit_class9_ckpt', 'ckpts/overfit_class10_ckpt', 'ckpts/overfit_class11_ckpt', 'ckpts/overfit_class12_ckpt']\n",
    "labels = ['reg: 0.1', 'reg: 0.01', 'reg: 0.003333', 'reg: 0.001']\n",
    "\n",
    "for num, ckpt in enumerate(ckpts):\n",
    "    model.load(ckpt)\n",
    "    tot_pred, tot_y = [], []\n",
    "    for i, batch in enumerate(dev_loader):\n",
    "        X, y = batch\n",
    "        sz = y.size(0)\n",
    "\n",
    "        pred = model.pred(Variable(X.cuda().float()))\n",
    "        pred = pred.cpu().data.numpy().reshape(sz)\n",
    "\n",
    "        tot_pred.append(pred)\n",
    "        tot_y.append(y.numpy().reshape(sz))\n",
    "\n",
    "    pred, y = np.hstack(tot_pred), np.hstack(tot_y)\n",
    "    fpr, tpr, _ = roc_curve(y, pred)\n",
    "    plt.plot(fpr,tpr, label=labels[num])\n",
    "\n",
    "plt.legend(loc='lower right')\n",
    "plt.show()"
   ]
  }
 ],
 "metadata": {
  "kernelspec": {
   "display_name": "Python 3",
   "language": "python",
   "name": "python3"
  },
  "language_info": {
   "codemirror_mode": {
    "name": "ipython",
    "version": 3
   },
   "file_extension": ".py",
   "mimetype": "text/x-python",
   "name": "python",
   "nbconvert_exporter": "python",
   "pygments_lexer": "ipython3",
   "version": "3.6.2"
  }
 },
 "nbformat": 4,
 "nbformat_minor": 2
}
