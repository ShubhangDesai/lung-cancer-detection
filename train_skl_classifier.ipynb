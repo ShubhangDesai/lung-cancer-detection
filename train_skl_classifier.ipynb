{
 "cells": [
  {
   "cell_type": "code",
   "execution_count": 3,
   "metadata": {},
   "outputs": [
    {
     "name": "stdout",
     "output_type": "stream",
     "text": [
      "The autoreload extension is already loaded. To reload it, use:\n",
      "  %reload_ext autoreload\n"
     ]
    }
   ],
   "source": [
    "from models import densenet, resnet\n",
    "from Model3D import Model3D\n",
    "from ClassifierDataset import ClassifierDataset\n",
    "\n",
    "import torch\n",
    "from torch.autograd import Variable\n",
    "import torch.utils.data as data\n",
    "import torchvision.datasets as datasets\n",
    "import numpy as np\n",
    "import sys, math, time, os\n",
    "from random import shuffle\n",
    "\n",
    "from sklearn.linear_model import SGDClassifier\n",
    "from sklearn.naive_bayes import MultinomialNB\n",
    "\n",
    "import matplotlib.pyplot as plt\n",
    "from sklearn.externals import joblib\n",
    "\n",
    "%load_ext autoreload\n",
    "%autoreload 2\n",
    "\n",
    "use_cuda = torch.cuda.is_available()\n",
    "dtype = torch.cuda.FloatTensor if use_cuda else torch.FloatTensor\n",
    "\n",
    "kwargs = {'num_workers': 1, 'pin_memory': True} if use_cuda else {}"
   ]
  },
  {
   "cell_type": "code",
   "execution_count": 4,
   "metadata": {},
   "outputs": [],
   "source": [
    "def training_regime(model, data_loader, num_epochs=1):\n",
    "    num_batches = len(data_loader)\n",
    "    for epoch in range(num_epochs):\n",
    "        print(\"Epoch %d\" % (epoch+1))\n",
    "        for i, batch in enumerate(data_loader):\n",
    "            X, y = batch\n",
    "            X, y = X.numpy().reshape(y.size(0), -1), y.numpy().reshape(-1)\n",
    "            \n",
    "            model = model.partial_fit(X, y, classes=[0, 1])\n",
    "\n",
    "            progress = math.ceil((i+1)/num_batches*20)\n",
    "            sys.stdout.write('\\r[' + progress * '*'+ (20 - progress) * ' ' + '] (%d/%d)' % ((i+1), num_batches))\n",
    "\n",
    "            #if i % 10 == 0:\n",
    "\n",
    "        #model.save(ckpt_file)            \n",
    "        #np.save(losses_file, losses)    \n",
    "        print('\\n')\n",
    "    return model"
   ]
  },
  {
   "cell_type": "code",
   "execution_count": 5,
   "metadata": {},
   "outputs": [],
   "source": [
    "X_dataset = ClassifierDataset(\"/deep/group/shubhang/overfit_class/train/\")\n",
    "X_loader = data.DataLoader(X_dataset, batch_size=20, shuffle=True)\n",
    "\n",
    "model = SGDClassifier()"
   ]
  },
  {
   "cell_type": "code",
   "execution_count": 6,
   "metadata": {},
   "outputs": [
    {
     "name": "stdout",
     "output_type": "stream",
     "text": [
      "Epoch 1\n",
      "\r",
      "[****                ] (1/6)\r",
      "[*******             ] (2/6)"
     ]
    },
    {
     "name": "stderr",
     "output_type": "stream",
     "text": [
      "/afs/cs.stanford.edu/u/shubhang/.env/lib/python3.6/site-packages/sklearn/linear_model/stochastic_gradient.py:128: FutureWarning: max_iter and tol parameters have been added in <class 'sklearn.linear_model.stochastic_gradient.SGDClassifier'> in 0.19. If both are left unset, they default to max_iter=5 and tol=None. If tol is not None, max_iter defaults to max_iter=1000. From 0.21, default max_iter will be 1000, and default tol will be 1e-3.\n",
      "  \"and default tol will be 1e-3.\" % type(self), FutureWarning)\n"
     ]
    },
    {
     "name": "stdout",
     "output_type": "stream",
     "text": [
      "\r",
      "[**********          ] (3/6)\r",
      "[**************      ] (4/6)\r",
      "[*****************   ] (5/6)\r",
      "[********************] (6/6)\n",
      "\n"
     ]
    },
    {
     "data": {
      "text/plain": [
       "['svm.pkl']"
      ]
     },
     "execution_count": 6,
     "metadata": {},
     "output_type": "execute_result"
    }
   ],
   "source": [
    "trained_model = training_regime(model, X_loader)\n",
    "joblib.dump(trained_model, 'svm.pkl')"
   ]
  },
  {
   "cell_type": "code",
   "execution_count": null,
   "metadata": {},
   "outputs": [],
   "source": []
  }
 ],
 "metadata": {
  "kernelspec": {
   "display_name": "Python 3",
   "language": "python",
   "name": "python3"
  },
  "language_info": {
   "codemirror_mode": {
    "name": "ipython",
    "version": 3
   },
   "file_extension": ".py",
   "mimetype": "text/x-python",
   "name": "python",
   "nbconvert_exporter": "python",
   "pygments_lexer": "ipython3",
   "version": "3.6.2"
  }
 },
 "nbformat": 4,
 "nbformat_minor": 2
}
