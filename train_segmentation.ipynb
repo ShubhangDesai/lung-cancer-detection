{
 "cells": [
  {
   "cell_type": "code",
   "execution_count": 5,
   "metadata": {},
   "outputs": [
    {
     "name": "stdout",
     "output_type": "stream",
     "text": [
      "The autoreload extension is already loaded. To reload it, use:\n",
      "  %reload_ext autoreload\n"
     ]
    }
   ],
   "source": [
    "from UNet import UNet\n",
    "from ScanDataset import ScanDataset\n",
    "from utils import *\n",
    "\n",
    "import os\n",
    "from random import shuffle\n",
    "\n",
    "from torch.autograd import Variable\n",
    "import torch.utils.data as data\n",
    "import torch\n",
    "\n",
    "import math\n",
    "import sys\n",
    "\n",
    "use_cuda = torch.cuda.is_available()\n",
    "dtype = torch.cuda.FloatTensor if use_cuda else torch.FloatTensor\n",
    "\n",
    "%matplotlib inline\n",
    "\n",
    "%load_ext autoreload\n",
    "%autoreload 2\n",
    "%reload_ext autoreload"
   ]
  },
  {
   "cell_type": "code",
   "execution_count": 2,
   "metadata": {},
   "outputs": [],
   "source": [
    "use_cuda = torch.cuda.is_available()\n",
    "dtype = torch.cuda.FloatTensor if use_cuda else torch.FloatTensor\n",
    "\n",
    "kwargs = {'num_workers': 1, 'pin_memory': True} if use_cuda else {}"
   ]
  },
  {
   "cell_type": "code",
   "execution_count": 3,
   "metadata": {},
   "outputs": [],
   "source": [
    "luna_root = '/deep/group/shubhang/luna16/'\n",
    "\n",
    "def train(model, data_loader, num_epochs=1, losses_file=None, ckpt_file=None, resume=False):\n",
    "    losses = list(np.load(losses_file)) if resume else []\n",
    "    num_batches = len(data_loader)\n",
    "    for epoch in range(num_epochs):\n",
    "        print(\"Epoch %d\" % (epoch+1))\n",
    "        for i, batch in enumerate(data_loader):\n",
    "            X, y = batch\n",
    "            \n",
    "            loss = model.train(Variable(X.type(dtype)), Variable(y.type(dtype)))\n",
    "            losses.append(loss.data.cpu()[0])\n",
    "\n",
    "            progress = math.ceil((i+1)/num_batches*20)\n",
    "            sys.stdout.write('\\r[' + progress * '*'+ (20 - progress) * ' ' + '] (%d/%d) Loss: %f' % ((i+1), num_batches, loss.data[0]))\n",
    "\n",
    "            if i % 10 == 0:\n",
    "                model.save(ckpt_file)\n",
    "                np.save(losses_file, losses)\n",
    "        \n",
    "        print('\\n')"
   ]
  },
  {
   "cell_type": "code",
   "execution_count": 4,
   "metadata": {},
   "outputs": [],
   "source": [
    "resume_name = 'train10'\n",
    "unet = UNet(lr=1e-2, pos_weight=5000)\n",
    "unet.load('ckpts/' + resume_name + '_ckpt')\n",
    "scan_dataset = ScanDataset(luna_root + 'lungs_slices/train/', luna_root + 'gt_slices/train/')\n",
    "scan_loader = data.DataLoader(scan_dataset, batch_size=40, shuffle=True, **kwargs)"
   ]
  },
  {
   "cell_type": "code",
   "execution_count": 6,
   "metadata": {},
   "outputs": [
    {
     "name": "stdout",
     "output_type": "stream",
     "text": [
      "Epoch 1\n",
      "[********************] (4324/4324) Loss: 0.047634\n",
      "\n"
     ]
    }
   ],
   "source": [
    "experiment_name = 'train11'\n",
    "losses_file = 'losses/' + experiment_name + '.npy'\n",
    "train(unet, scan_loader, num_epochs=1, losses_file=losses_file, ckpt_file=experiment_name + '_ckpt', resume=False)"
   ]
  },
  {
   "cell_type": "code",
   "execution_count": null,
   "metadata": {},
   "outputs": [],
   "source": []
  }
 ],
 "metadata": {
  "kernelspec": {
   "display_name": "Python 3",
   "language": "python",
   "name": "python3"
  },
  "language_info": {
   "codemirror_mode": {
    "name": "ipython",
    "version": 3
   },
   "file_extension": ".py",
   "mimetype": "text/x-python",
   "name": "python",
   "nbconvert_exporter": "python",
   "pygments_lexer": "ipython3",
   "version": "3.6.2"
  }
 },
 "nbformat": 4,
 "nbformat_minor": 2
}
